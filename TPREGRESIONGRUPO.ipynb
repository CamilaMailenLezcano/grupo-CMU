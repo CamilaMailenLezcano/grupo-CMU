{
  "nbformat": 4,
  "nbformat_minor": 0,
  "metadata": {
    "colab": {
      "provenance": [],
      "mount_file_id": "1M4zg99FioGuR_wMe1KemHtl4bHNj88rp",
      "authorship_tag": "ABX9TyNc7yA/hvGB6Y6bn8uuzL51",
      "include_colab_link": true
    },
    "kernelspec": {
      "name": "python3",
      "display_name": "Python 3"
    },
    "language_info": {
      "name": "python"
    }
  },
  "cells": [
    {
      "cell_type": "markdown",
      "metadata": {
        "id": "view-in-github",
        "colab_type": "text"
      },
      "source": [
        "<a href=\"https://colab.research.google.com/github/CamilaMailenLezcano/grupo-CMU/blob/rama-principal/TPREGRESIONGRUPO.ipynb\" target=\"_parent\"><img src=\"https://colab.research.google.com/assets/colab-badge.svg\" alt=\"Open In Colab\"/></a>"
      ]
    },
    {
      "cell_type": "code",
      "execution_count": 2,
      "metadata": {
        "colab": {
          "base_uri": "https://localhost:8080/"
        },
        "id": "mubAwPP_7AIy",
        "outputId": "b61f1fc9-aca4-4b9a-9572-aa78d41a4d35"
      },
      "outputs": [
        {
          "output_type": "stream",
          "name": "stdout",
          "text": [
            "Requirement already satisfied: pyreadstat in /usr/local/lib/python3.10/dist-packages (1.2.8)\n",
            "Requirement already satisfied: pandas>=1.2.0 in /usr/local/lib/python3.10/dist-packages (from pyreadstat) (2.2.2)\n",
            "Requirement already satisfied: numpy>=1.22.4 in /usr/local/lib/python3.10/dist-packages (from pandas>=1.2.0->pyreadstat) (1.26.4)\n",
            "Requirement already satisfied: python-dateutil>=2.8.2 in /usr/local/lib/python3.10/dist-packages (from pandas>=1.2.0->pyreadstat) (2.8.2)\n",
            "Requirement already satisfied: pytz>=2020.1 in /usr/local/lib/python3.10/dist-packages (from pandas>=1.2.0->pyreadstat) (2024.2)\n",
            "Requirement already satisfied: tzdata>=2022.7 in /usr/local/lib/python3.10/dist-packages (from pandas>=1.2.0->pyreadstat) (2024.2)\n",
            "Requirement already satisfied: six>=1.5 in /usr/local/lib/python3.10/dist-packages (from python-dateutil>=2.8.2->pandas>=1.2.0->pyreadstat) (1.16.0)\n",
            "['Encuestado', 'País', 'legis', 'partido', 'departa', 'tipoelec', 'comision01', 'comision02', 'comision03', 'comision04', 'comision05', 'comision06', 'comision07', 'comision08', 'comision09', 'DEM1', 'PRO101', 'PRO102', 'PRO103', 'PRO104', 'PRO105', 'PRO106', 'PRO107', 'PRO108', 'PRO109', 'PRO110', 'PRO111', 'PRO112', 'PRO113', 'PRO114', 'DEM5', 'DEM6', 'INST101', 'INST102', 'INST103', 'INST104', 'INST105', 'INST106', 'INST107', 'INST108', 'INST109', 'INST110', 'INST111', 'INST112', 'INST113', 'INST114', 'INST115', 'ELE1', 'ELE201', 'IDP101', 'IDP102', 'IDP103', 'IDP104', 'IDP105', 'IDLN101', 'IDLN102', 'IDLN103', 'IDLN104', 'IDLN105', 'IDLN106', 'PP101', 'PP102', 'PP103', 'PP104', 'PP105', 'PP106', 'PP107', 'PP1a01', 'PP1a02', 'DIS1', 'DIS2', 'DIS3', 'REP1', 'REP2', 'CAMP401', 'CAMP402', 'CAMP403', 'CAMP404', 'CAND101', 'MED101', 'MED102', 'MED103', 'MED104', 'CLIEN2a01', 'CLIEN2a02', 'CLIEN2a03', 'CLIEN2a04', 'CLIEN2a05', 'CLIEN4', 'ACT101', 'ACT102', 'ACT103', 'ACT104', 'ACT105', 'VINC101', 'VINC102', 'VINC103', 'VINC104', 'VINC105', 'VINC106', 'VINC107', 'PJ101', 'FFAA101', 'EM101', 'INM101', 'INM102', 'INM103', 'INM104', 'INM105', 'INM106', 'GEN101', 'GEN102', 'GEN103', 'GEN104', 'GEN105', 'GEN201', 'GEN202', 'GEN203', 'GEN204', 'GEN401', 'GEN402', 'GEN403', 'GEN404', 'GEN405', 'CO201', 'CO202', 'CO203', 'CO204', 'CO205', 'CO206', 'CO207', 'CO208', 'CO209', 'CO210', 'CO211', 'CO212', 'CO213', 'CO3', 'ROES101', 'ROES102', 'ROES103', 'ROES104', 'ROES105', 'PRO2', 'ROES1A01', 'ROES1A02', 'ROES1A03', 'ROES1A04', 'BID401', 'BID501', 'BID502', 'CLIMA201', 'TR101', 'TR102', 'TR2', 'MPOL101', 'MPOL201', 'MPOL102', 'MPOL202', 'MPOL103', 'MPOL203', 'TR3', 'TR3a101', 'TR3a102', 'TR3a201', 'TR3a202', 'TR3a301', 'TR3a302', 'POL1', 'TR501', 'TR502', 'TR503', 'TR5a101', 'TR5a102', 'TR5a103', 'TR5a201', 'TR5a202', 'TR5a203', 'TR5a0301', 'TR5a0302', 'TR5a0303', 'EXPP1', 'EXPP1a', 'EXPP1b', 'AGL1', 'REP301', 'REP302', 'REP401', 'REP402', 'REP601', 'REP602', 'REP603', 'REP5', 'LEG3', 'SOCP1', 'SOCP2', 'SOCP2a01', 'SOCP2a02', 'SOCP2a03', 'SOCP2b01', 'SOCP2b02', 'SOCP2b03', 'SOCP2c01', 'SOCP2c02', 'SOCP2c03', 'SOCD1', 'SOCD2', 'SOCD3', 'SOCD3a', 'CONF101', 'BID1', 'BID301', 'BID201', 'BID202', 'VAL101', 'VAL102', 'VAL103', 'VAL104', 'VAL105', 'ID101', 'ID201', 'RE1', 'RE1a', 'RE1b', 'SOCD4', 'SOCD5', 'SOCD6', 'SOCD10', 'SOCD10a', 'SOCD10b', 'SOCD7', 'SOCD8', 'RED101', 'RED102', 'RED103', 'RED104', 'SOCD9', 'SOCD9a', 'ING1', 'ING3', 'V1', 'V201', 'V3', 'Duración', 'entrev', 'fecha1', 'hora1', 'fecha2', 'v2', 'fecha3', 'v4', 'contacto1', 'contacto2', 'contacto3', 'pcontacto1', 'pcontacto106', 'pcontacto2', 'pcontacto3', 'resultado1', 'resultado107', 'causaneg1', 'resultado2', 'causaneg2', 'resultado3', 'causaneg3', 'peso']\n"
          ]
        }
      ],
      "source": [
        "import pandas as pd\n",
        "import numpy as np\n",
        "import statsmodels.api as sm\n",
        "\n",
        "!pip install pyreadstat\n",
        "\n",
        "import pyreadstat\n",
        "file_path ='/content/drive/MyDrive/REGRESION SAV/BASEDATOS_ARGENTINA_122.sav'\n",
        "\n",
        "df_diputados, meta = pyreadstat.read_sav(file_path)\n",
        "\n",
        "df_diputados = df_diputados.loc[~((df_diputados['ID101'] == 98) |\n",
        "                                   (df_diputados['ID101'] == 99) |\n",
        "                                   (df_diputados['PRO102'] == 98) |\n",
        "                                   (df_diputados['PRO112'] == 99))]\n",
        "\n",
        "print (df_diputados.columns.tolist()) #Se pide el nombre de todas las columnas"
      ]
    },
    {
      "cell_type": "code",
      "source": [
        "print(meta.column_labels) #¿Cuales son las etiquetas de las columnas?"
      ],
      "metadata": {
        "colab": {
          "base_uri": "https://localhost:8080/"
        },
        "id": "ORLWBCEmqM9S",
        "outputId": "898b05c8-b604-4413-df3e-f37e8fabe1d9"
      },
      "execution_count": null,
      "outputs": [
        {
          "output_type": "stream",
          "name": "stdout",
          "text": [
            "['Encuestado', 'País', 'Período legislativo', 'Partido político', 'Provincia', 'Tipo de distrito', 'Comisiones que Ud. integra -', 'Comisiones que Ud. integra -', 'Comisiones que Ud. integra -', 'Comisiones que Ud. integra -', 'Comisiones que Ud. integra -', 'Comisiones que Ud. integra -', 'Comisiones que Ud. integra -', 'Comisiones que Ud. integra -', 'Comisiones que Ud. integra -', 'Para comenzar, hablemos de la estabilidad de la democracia en Argentina.\\r\\nEn su opinión, ¿la democracia en Argentina es hoy: muy estable, algo estable, poco estable o nada estable?', 'A continuación, le voy a nombrar una serie de problemas locales comunes a muchos países. ¿Podría indicarme para cada uno de ellos que grado de importancia tienen hoy en Argentina siguiendo esta escala de 1 a 10, donde 1 significa \"no es una cuesti', 'A continuación, le voy a nombrar una serie de problemas locales comunes a muchos países. ¿Podría indicarme para cada uno de ellos que grado de importancia tienen hoy en Argentina siguiendo esta escala de 1 a 10, donde 1 significa \"no es una cuesti', 'A continuación, le voy a nombrar una serie de problemas locales comunes a muchos países. ¿Podría indicarme para cada uno de ellos que grado de importancia tienen hoy en Argentina siguiendo esta escala de 1 a 10, donde 1 significa \"no es una cuesti', 'A continuación, le voy a nombrar una serie de problemas locales comunes a muchos países. ¿Podría indicarme para cada uno de ellos que grado de importancia tienen hoy en Argentina siguiendo esta escala de 1 a 10, donde 1 significa \"no es una cuesti', 'A continuación, le voy a nombrar una serie de problemas locales comunes a muchos países. ¿Podría indicarme para cada uno de ellos que grado de importancia tienen hoy en Argentina siguiendo esta escala de 1 a 10, donde 1 significa \"no es una cuesti', 'A continuación, le voy a nombrar una serie de problemas locales comunes a muchos países. ¿Podría indicarme para cada uno de ellos que grado de importancia tienen hoy en Argentina siguiendo esta escala de 1 a 10, donde 1 significa \"no es una cuesti', 'A continuación, le voy a nombrar una serie de problemas locales comunes a muchos países. ¿Podría indicarme para cada uno de ellos que grado de importancia tienen hoy en Argentina siguiendo esta escala de 1 a 10, donde 1 significa \"no es una cuesti', 'A continuación, le voy a nombrar una serie de problemas locales comunes a muchos países. ¿Podría indicarme para cada uno de ellos que grado de importancia tienen hoy en Argentina siguiendo esta escala de 1 a 10, donde 1 significa \"no es una cuesti', 'A continuación, le voy a nombrar una serie de problemas locales comunes a muchos países. ¿Podría indicarme para cada uno de ellos que grado de importancia tienen hoy en Argentina siguiendo esta escala de 1 a 10, donde 1 significa \"no es una cuesti', 'A continuación, le voy a nombrar una serie de problemas locales comunes a muchos países. ¿Podría indicarme para cada uno de ellos que grado de importancia tienen hoy en Argentina siguiendo esta escala de 1 a 10, donde 1 significa \"no es una cuesti', 'A continuación, le voy a nombrar una serie de problemas locales comunes a muchos países. ¿Podría indicarme para cada uno de ellos que grado de importancia tienen hoy en Argentina siguiendo esta escala de 1 a 10, donde 1 significa \"no es una cuesti', 'A continuación, le voy a nombrar una serie de problemas locales comunes a muchos países. ¿Podría indicarme para cada uno de ellos que grado de importancia tienen hoy en Argentina siguiendo esta escala de 1 a 10, donde 1 significa \"no es una cuesti', 'A continuación, le voy a nombrar una serie de problemas locales comunes a muchos países. ¿Podría indicarme para cada uno de ellos que grado de importancia tienen hoy en Argentina siguiendo esta escala de 1 a 10, donde 1 significa \"no es una cuesti', 'A continuación, le voy a nombrar una serie de problemas locales comunes a muchos países. ¿Podría indicarme para cada uno de ellos que grado de importancia tienen hoy en Argentina siguiendo esta escala de 1 a 10, donde 1 significa \"no es una cuesti', 'En general, ¿diría Ud. que está muy satisfecho, satisfecho, insatisfecho o muy insatisfecho con el funcionamiento de la democracia hoy en Argentina?', 'Cambiando de tema. Hay gente que dice que sin partidos no puede haber democracia. ¿Hasta qué punto: mucho, algo, poco o nada, está Ud. de acuerdo con esta afirmación?', 'Y en relación a las siguientes personas, grupos e instituciones, me gustaría saber, ¿qué grado de confianza, mucha, alguna, poca o ninguna, le merece su actuación en la vida pública argentina? (ENTREVISTADOR: MUESTRE TARJETA B) - El poder judicia', 'Y en relación a las siguientes personas, grupos e instituciones, me gustaría saber, ¿qué grado de confianza, mucha, alguna, poca o ninguna, le merece su actuación en la vida pública argentina? (ENTREVISTADOR: MUESTRE TARJETA B) - Los partidos pol', 'Y en relación a las siguientes personas, grupos e instituciones, me gustaría saber, ¿qué grado de confianza, mucha, alguna, poca o ninguna, le merece su actuación en la vida pública argentina? (ENTREVISTADOR: MUESTRE TARJETA B) - Las organizacion', 'Y en relación a las siguientes personas, grupos e instituciones, me gustaría saber, ¿qué grado de confianza, mucha, alguna, poca o ninguna, le merece su actuación en la vida pública argentina? (ENTREVISTADOR: MUESTRE TARJETA B) - Los sindicatos', 'Y en relación a las siguientes personas, grupos e instituciones, me gustaría saber, ¿qué grado de confianza, mucha, alguna, poca o ninguna, le merece su actuación en la vida pública argentina? (ENTREVISTADOR: MUESTRE TARJETA B) - Las Fuerzas Arma', 'Y en relación a las siguientes personas, grupos e instituciones, me gustaría saber, ¿qué grado de confianza, mucha, alguna, poca o ninguna, le merece su actuación en la vida pública argentina? (ENTREVISTADOR: MUESTRE TARJETA B) - La Iglesia Cató', 'Y en relación a las siguientes personas, grupos e instituciones, me gustaría saber, ¿qué grado de confianza, mucha, alguna, poca o ninguna, le merece su actuación en la vida pública argentina? (ENTREVISTADOR: MUESTRE TARJETA B) - La Iglesia Evang', 'Y en relación a las siguientes personas, grupos e instituciones, me gustaría saber, ¿qué grado de confianza, mucha, alguna, poca o ninguna, le merece su actuación en la vida pública argentina? (ENTREVISTADOR: MUESTRE TARJETA B) - El Parlamento', 'Y en relación a las siguientes personas, grupos e instituciones, me gustaría saber, ¿qué grado de confianza, mucha, alguna, poca o ninguna, le merece su actuación en la vida pública argentina? (ENTREVISTADOR: MUESTRE TARJETA B) - El presidente de', 'Y en relación a las siguientes personas, grupos e instituciones, me gustaría saber, ¿qué grado de confianza, mucha, alguna, poca o ninguna, le merece su actuación en la vida pública argentina? (ENTREVISTADOR: MUESTRE TARJETA B) - Empleados admini', 'Y en relación a las siguientes personas, grupos e instituciones, me gustaría saber, ¿qué grado de confianza, mucha, alguna, poca o ninguna, le merece su actuación en la vida pública argentina? (ENTREVISTADOR: MUESTRE TARJETA B) - Los medios de co', 'Y en relación a las siguientes personas, grupos e instituciones, me gustaría saber, ¿qué grado de confianza, mucha, alguna, poca o ninguna, le merece su actuación en la vida pública argentina? (ENTREVISTADOR: MUESTRE TARJETA B) - La policía', 'Y en relación a las siguientes personas, grupos e instituciones, me gustaría saber, ¿qué grado de confianza, mucha, alguna, poca o ninguna, le merece su actuación en la vida pública argentina? (ENTREVISTADOR: MUESTRE TARJETA B) - El Banco Central', 'Y en relación a las siguientes personas, grupos e instituciones, me gustaría saber, ¿qué grado de confianza, mucha, alguna, poca o ninguna, le merece su actuación en la vida pública argentina? (ENTREVISTADOR: MUESTRE TARJETA B) - Ministros del Go', 'Y en relación a las siguientes personas, grupos e instituciones, me gustaría saber, ¿qué grado de confianza, mucha, alguna, poca o ninguna, le merece su actuación en la vida pública argentina? (ENTREVISTADOR: MUESTRE TARJETA B) - El Tribunal Supr', 'Hablando de elecciones, ¿hasta qué punto, mucho, algo, poco o nada, está Ud. de acuerdo con la afirmación de que las elecciones son siempre el mejor medio para expresar unas determinadas preferencias políticas?', '¿Y cuál es el grado de confianza que le han merecido a Ud. los procesos electorales en los que Ud. ha sido elegido? Para ello, utilice la siguiente escala que va de 1 a 10, teniendo en cuenta que el \"1\" significa una \"mínima confianza\" y el \"10\" una', 'Cuando se habla de política se utilizan normalmente las expresiones izquierda y derecha. En una escala donde el 1 es la izquierda y el 10 la derecha, ¿en qué casilla colocaría Ud. a los siguientes partidos? (ENTREVISTADOR: MUESTRE LA TARJETA D Y AN', 'Cuando se habla de política se utilizan normalmente las expresiones izquierda y derecha. En una escala donde el 1 es la izquierda y el 10 la derecha, ¿en qué casilla colocaría Ud. a los siguientes partidos? (ENTREVISTADOR: MUESTRE LA TARJETA D Y AN', 'Cuando se habla de política se utilizan normalmente las expresiones izquierda y derecha. En una escala donde el 1 es la izquierda y el 10 la derecha, ¿en qué casilla colocaría Ud. a los siguientes partidos? (ENTREVISTADOR: MUESTRE LA TARJETA D Y AN', 'Cuando se habla de política se utilizan normalmente las expresiones izquierda y derecha. En una escala donde el 1 es la izquierda y el 10 la derecha, ¿en qué casilla colocaría Ud. a los siguientes partidos? (ENTREVISTADOR: MUESTRE LA TARJETA D Y AN', 'Cuando se habla de política se utilizan normalmente las expresiones izquierda y derecha. En una escala donde el 1 es la izquierda y el 10 la derecha, ¿en qué casilla colocaría Ud. a los siguientes partidos? (ENTREVISTADOR: MUESTRE LA TARJETA D Y AN', 'Y, en esta misma escala , ¿dónde situaría Ud. a los siguientes líderes políticos? (ENTREVISTADOR: MUESTRE LA TARJETA D Y ANOTE LAS CASILLAS QUE LE DIGAN) - Alberto FERNÁNDEZ', 'Y, en esta misma escala , ¿dónde situaría Ud. a los siguientes líderes políticos? (ENTREVISTADOR: MUESTRE LA TARJETA D Y ANOTE LAS CASILLAS QUE LE DIGAN) - Patricia BULLRICH', 'Y, en esta misma escala , ¿dónde situaría Ud. a los siguientes líderes políticos? (ENTREVISTADOR: MUESTRE LA TARJETA D Y ANOTE LAS CASILLAS QUE LE DIGAN) - Cristina FERNÁNDEZ', 'Y, en esta misma escala , ¿dónde situaría Ud. a los siguientes líderes políticos? (ENTREVISTADOR: MUESTRE LA TARJETA D Y ANOTE LAS CASILLAS QUE LE DIGAN) - Javier MILEI', 'Y, en esta misma escala , ¿dónde situaría Ud. a los siguientes líderes políticos? (ENTREVISTADOR: MUESTRE LA TARJETA D Y ANOTE LAS CASILLAS QUE LE DIGAN) - Sergio MASSA', 'Y, en esta misma escala , ¿dónde situaría Ud. a los siguientes líderes políticos? (ENTREVISTADOR: MUESTRE LA TARJETA D Y ANOTE LAS CASILLAS QUE LE DIGAN) - Mauricio MACRI', 'Ahora, le voy a leer varias afirmaciones sobre la democracia interna de su partido y me gustaría que me dijera hasta qué punto está Ud. de acuerdo o en desacuerdo con esas afirmaciones. Para ello utilice la siguiente escala de 1 a 5, donde el 1 sign', 'Ahora, le voy a leer varias afirmaciones sobre la democracia interna de su partido y me gustaría que me dijera hasta qué punto está Ud. de acuerdo o en desacuerdo con esas afirmaciones. Para ello utilice la siguiente escala de 1 a 5, donde el 1 sign', 'Ahora, le voy a leer varias afirmaciones sobre la democracia interna de su partido y me gustaría que me dijera hasta qué punto está Ud. de acuerdo o en desacuerdo con esas afirmaciones. Para ello utilice la siguiente escala de 1 a 5, donde el 1 sign', 'Ahora, le voy a leer varias afirmaciones sobre la democracia interna de su partido y me gustaría que me dijera hasta qué punto está Ud. de acuerdo o en desacuerdo con esas afirmaciones. Para ello utilice la siguiente escala de 1 a 5, donde el 1 sign', 'Ahora, le voy a leer varias afirmaciones sobre la democracia interna de su partido y me gustaría que me dijera hasta qué punto está Ud. de acuerdo o en desacuerdo con esas afirmaciones. Para ello utilice la siguiente escala de 1 a 5, donde el 1 sign', 'Ahora, le voy a leer varias afirmaciones sobre la democracia interna de su partido y me gustaría que me dijera hasta qué punto está Ud. de acuerdo o en desacuerdo con esas afirmaciones. Para ello utilice la siguiente escala de 1 a 5, donde el 1 sign', 'Ahora, le voy a leer varias afirmaciones sobre la democracia interna de su partido y me gustaría que me dijera hasta qué punto está Ud. de acuerdo o en desacuerdo con esas afirmaciones. Para ello utilice la siguiente escala de 1 a 5, donde el 1 sign', '¿Por qué cree Ud. que las mujeres no tienen las mismas posibilidades de acceder a puestos\\r\\nde poder dentro de su partido?', '¿Y en segundo lugar?', 'El tema de la disciplina de voto de los Diputados ha suscitado tradicionalmente opiniones\\r\\nmuy diversas. ¿Con cuál de las siguientes opiniones se muestra Ud. más de acuerdo?', 'A continuación, me gustaría saber en qué medida: mucho, algo, poco o nada, está Ud. de acuerdo con la siguiente afirmación: \"un partido político debería expulsar a un diputado que vota en contra de la disciplina del partido político\".', 'En ocasiones sucede que un Diputado que ha sido elegido en las listas de un determinado partido decide posteriormente abandonar su vinculación con ese partido político. En esas ocasiones, ¿qué cree Ud. que debería hacer el Diputado? (ENTREVISTADOR', '¿Qué grado de importancia, mucha, alguna, poca o ninguna, concede Ud. durante el desarrollo de su labor parlamentaria, a conseguir recursos para su circunscripción electoral?', '¿Y, cuando hay un conflicto entre los intereses de su provincia y las posiciones de su partido político, Ud. suele votar?   (ENTREVISTADOR: LEA LAS ALTERNATIVAS Y MARQUE UNA RESPUESTA)', 'Siguiendo con las campañas electorales, me gustaría que me dijera hasta qué punto está de acuerdo o en desacuerdo con las siguientes afirmaciones. Para ello utilice la siguiente escala de 1 a 5, donde el 1 significa \"muy en desacuerdo\" y el 5 \"muy', 'Siguiendo con las campañas electorales, me gustaría que me dijera hasta qué punto está de acuerdo o en desacuerdo con las siguientes afirmaciones. Para ello utilice la siguiente escala de 1 a 5, donde el 1 significa \"muy en desacuerdo\" y el 5 \"muy', 'Siguiendo con las campañas electorales, me gustaría que me dijera hasta qué punto está de acuerdo o en desacuerdo con las siguientes afirmaciones. Para ello utilice la siguiente escala de 1 a 5, donde el 1 significa \"muy en desacuerdo\" y el 5 \"muy', 'Siguiendo con las campañas electorales, me gustaría que me dijera hasta qué punto está de acuerdo o en desacuerdo con las siguientes afirmaciones. Para ello utilice la siguiente escala de 1 a 5, donde el 1 significa \"muy en desacuerdo\" y el 5 \"muy', '¿Cuál fue el objetivo principal de su campaña electoral? En una escala de 1 a 10, donde 1 significa \"atraer la mayor atención posible para mi como candidato\" y el 10 \"atraer la mayor atención posible para mi partido\", ¿en qué lugar de la escala', 'Utilizando la siguiente escala donde 1 significa que está \"Totalmente en desacuerdo\" y el 10 que está \"Totalmente de acuerdo\", ¿me podría decir su grado de acuerdo o desacuerdo con cada una de las siguientes frases sobre los medios de comunicación', 'Utilizando la siguiente escala donde 1 significa que está \"Totalmente en desacuerdo\" y el 10 que está \"Totalmente de acuerdo\", ¿me podría decir su grado de acuerdo o desacuerdo con cada una de las siguientes frases sobre los medios de comunicación', 'Utilizando la siguiente escala donde 1 significa que está \"Totalmente en desacuerdo\" y el 10 que está \"Totalmente de acuerdo\", ¿me podría decir su grado de acuerdo o desacuerdo con cada una de las siguientes frases sobre los medios de comunicación', 'Utilizando la siguiente escala donde 1 significa que está \"Totalmente en desacuerdo\" y el 10 que está \"Totalmente de acuerdo\", ¿me podría decir su grado de acuerdo o desacuerdo con cada una de las siguientes frases sobre los medios de comunicación', 'Durante la campaña electoral los partidos y candidatos ofrecen a los votantes distintos incentivos para conseguir su voto. ¿Podría decirme con qué frecuencia, mucha, alguna, poca o ninguna, ha ofrecido Ud. durante la última campaña electoral…?', 'Durante la campaña electoral los partidos y candidatos ofrecen a los votantes distintos incentivos para conseguir su voto. ¿Podría decirme con qué frecuencia, mucha, alguna, poca o ninguna, ha ofrecido Ud. durante la última campaña electoral…?', 'Durante la campaña electoral los partidos y candidatos ofrecen a los votantes distintos incentivos para conseguir su voto. ¿Podría decirme con qué frecuencia, mucha, alguna, poca o ninguna, ha ofrecido Ud. durante la última campaña electoral…?', 'Durante la campaña electoral los partidos y candidatos ofrecen a los votantes distintos incentivos para conseguir su voto. ¿Podría decirme con qué frecuencia, mucha, alguna, poca o ninguna, ha ofrecido Ud. durante la última campaña electoral…?', 'Durante la campaña electoral los partidos y candidatos ofrecen a los votantes distintos incentivos para conseguir su voto. ¿Podría decirme con qué frecuencia, mucha, alguna, poca o ninguna, ha ofrecido Ud. durante la última campaña electoral…?', 'Teniendo en cuenta todo el tiempo que dedica Ud. a las múltiples tareas que desempeña como diputado a lo largo de una semana normal, ¿qué porcentaje de ese tiempo dedica Ud. a la atención de visitas de personas y organizaciones con problemas y dem', 'En la sociedad existen distintos puntos de vista respecto a la actuación de diversos actores políticos. A continuación, le voy a leer unas frases y me gustaría que Ud. me dijera, por favor, su grado de acuerdo con cada una de ellas. Para ello utili', 'En la sociedad existen distintos puntos de vista respecto a la actuación de diversos actores políticos. A continuación, le voy a leer unas frases y me gustaría que Ud. me dijera, por favor, su grado de acuerdo con cada una de ellas. Para ello utili', 'En la sociedad existen distintos puntos de vista respecto a la actuación de diversos actores políticos. A continuación, le voy a leer unas frases y me gustaría que Ud. me dijera, por favor, su grado de acuerdo con cada una de ellas. Para ello utili', 'En la sociedad existen distintos puntos de vista respecto a la actuación de diversos actores políticos. A continuación, le voy a leer unas frases y me gustaría que Ud. me dijera, por favor, su grado de acuerdo con cada una de ellas. Para ello utili', 'En la sociedad existen distintos puntos de vista respecto a la actuación de diversos actores políticos. A continuación, le voy a leer unas frases y me gustaría que Ud. me dijera, por favor, su grado de acuerdo con cada una de ellas. Para ello utili', 'En su actividad como candidato y ahora en su labor como diputado es posible que haya tenido vínculos con distintas organizaciones. Utilizando esta escala donde 10 significa que Ud. tiene vínculos fuertes y 1 significa que no tiene ningún vínculo,', 'En su actividad como candidato y ahora en su labor como diputado es posible que haya tenido vínculos con distintas organizaciones. Utilizando esta escala donde 10 significa que Ud. tiene vínculos fuertes y 1 significa que no tiene ningún vínculo,', 'En su actividad como candidato y ahora en su labor como diputado es posible que haya tenido vínculos con distintas organizaciones. Utilizando esta escala donde 10 significa que Ud. tiene vínculos fuertes y 1 significa que no tiene ningún vínculo,', 'En su actividad como candidato y ahora en su labor como diputado es posible que haya tenido vínculos con distintas organizaciones. Utilizando esta escala donde 10 significa que Ud. tiene vínculos fuertes y 1 significa que no tiene ningún vínculo,', 'En su actividad como candidato y ahora en su labor como diputado es posible que haya tenido vínculos con distintas organizaciones. Utilizando esta escala donde 10 significa que Ud. tiene vínculos fuertes y 1 significa que no tiene ningún vínculo,', 'En su actividad como candidato y ahora en su labor como diputado es posible que haya tenido vínculos con distintas organizaciones. Utilizando esta escala donde 10 significa que Ud. tiene vínculos fuertes y 1 significa que no tiene ningún vínculo,', 'En su actividad como candidato y ahora en su labor como diputado es posible que haya tenido vínculos con distintas organizaciones. Utilizando esta escala donde 10 significa que Ud. tiene vínculos fuertes y 1 significa que no tiene ningún vínculo,', 'Hablando del Poder Judicial, ¿podría darme su opinión sobre la independencia del mismo en Argentina en una escala de 1 a 10, dónde \"1\" significa mínima independencia y \"10\" máxima independencia? (ENTREVISTADOR: MUESTRE TARJETA K) -', 'FFAA1 Cambiando de tema. En esta tarjeta hay una serie de casillas que van desde la \"1\" muy negativo a \"10\" muy positivo. ¿Cómo valoraría Ud. el papel de las Fuerzas Armadas argentinas en la actualidad? (ENTREVISTADOR: MUESTRE TARJETA L Y ANOTE LA C', 'Dentro del debate económico sobre modelos de regulación. ¿Podría decirme si está Ud. más a favor de una economía regulada por el Estado o de libre mercado? Utilice para ello la  siguiente escala de 1 a 10, donde el \"1\" significa una máxima regu', 'Hablando ahora sobre inmigración y siguiendo esta escala en la que 1 significa \"muy en desacuerdo\" y el 5 \"muy de acuerdo\", dígame cuál sería su posición para cada una de las siguientes frases. (ENTREVISTADOR: MUESTRE TARJETA N) - Los inmigrantes', 'Hablando ahora sobre inmigración y siguiendo esta escala en la que 1 significa \"muy en desacuerdo\" y el 5 \"muy de acuerdo\", dígame cuál sería su posición para cada una de las siguientes frases. (ENTREVISTADOR: MUESTRE TARJETA N) - Cuando el empleo', 'Hablando ahora sobre inmigración y siguiendo esta escala en la que 1 significa \"muy en desacuerdo\" y el 5 \"muy de acuerdo\", dígame cuál sería su posición para cada una de las siguientes frases. (ENTREVISTADOR: MUESTRE TARJETA N) - Los inmigrantes', 'Hablando ahora sobre inmigración y siguiendo esta escala en la que 1 significa \"muy en desacuerdo\" y el 5 \"muy de acuerdo\", dígame cuál sería su posición para cada una de las siguientes frases. (ENTREVISTADOR: MUESTRE TARJETA N) - Los inmigrantes', 'Hablando ahora sobre inmigración y siguiendo esta escala en la que 1 significa \"muy en desacuerdo\" y el 5 \"muy de acuerdo\", dígame cuál sería su posición para cada una de las siguientes frases. (ENTREVISTADOR: MUESTRE TARJETA N) - Los inmigrantes', 'Hablando ahora sobre inmigración y siguiendo esta escala en la que 1 significa \"muy en desacuerdo\" y el 5 \"muy de acuerdo\", dígame cuál sería su posición para cada una de las siguientes frases. (ENTREVISTADOR: MUESTRE TARJETA N) - El gobierno debe', 'La gente tiene diferentes opiniones respecto a los asuntos políticos y sociales. Indíqueme, por favor, hasta qué punto está Ud. muy de acuerdo (5), de acuerdo (4), ni de acuerdo ni en desacuerdo (3),  en desacuerdo (2) o muy en desacuerdo (1) con c', 'La gente tiene diferentes opiniones respecto a los asuntos políticos y sociales. Indíqueme, por favor, hasta qué punto está Ud. muy de acuerdo (5), de acuerdo (4), ni de acuerdo ni en desacuerdo (3),  en desacuerdo (2) o muy en desacuerdo (1) con c', 'La gente tiene diferentes opiniones respecto a los asuntos políticos y sociales. Indíqueme, por favor, hasta qué punto está Ud. muy de acuerdo (5), de acuerdo (4), ni de acuerdo ni en desacuerdo (3),  en desacuerdo (2) o muy en desacuerdo (1) con c', 'La gente tiene diferentes opiniones respecto a los asuntos políticos y sociales. Indíqueme, por favor, hasta qué punto está Ud. muy de acuerdo (5), de acuerdo (4), ni de acuerdo ni en desacuerdo (3),  en desacuerdo (2) o muy en desacuerdo (1) con c', 'La gente tiene diferentes opiniones respecto a los asuntos políticos y sociales. Indíqueme, por favor, hasta qué punto está Ud. muy de acuerdo (5), de acuerdo (4), ni de acuerdo ni en desacuerdo (3),  en desacuerdo (2) o muy en desacuerdo (1) con c', 'En relación a las cuotas de género que facilitan el acceso de las mujeres al parlamento, me gustaría que me dijera hasta qué punto está de acuerdo o en desacuerdo con las siguientes afirmaciones. Para ello utilice la siguiente escala de 1 a 5, don', 'En relación a las cuotas de género que facilitan el acceso de las mujeres al parlamento, me gustaría que me dijera hasta qué punto está de acuerdo o en desacuerdo con las siguientes afirmaciones. Para ello utilice la siguiente escala de 1 a 5, don', 'En relación a las cuotas de género que facilitan el acceso de las mujeres al parlamento, me gustaría que me dijera hasta qué punto está de acuerdo o en desacuerdo con las siguientes afirmaciones. Para ello utilice la siguiente escala de 1 a 5, don', 'En relación a las cuotas de género que facilitan el acceso de las mujeres al parlamento, me gustaría que me dijera hasta qué punto está de acuerdo o en desacuerdo con las siguientes afirmaciones. Para ello utilice la siguiente escala de 1 a 5, don', 'Ahora, le voy a leer una serie de afirmaciones y me gustaría que me dijera si está Ud. de acuerdo o en desacuerdo con las siguientes afirmaciones. Para ello utilice la siguiente escala de 1 a 5, donde 1 significa \"muy en desacuerdo\" y 5 \"muy de acuer', 'Ahora, le voy a leer una serie de afirmaciones y me gustaría que me dijera si está Ud. de acuerdo o en desacuerdo con las siguientes afirmaciones. Para ello utilice la siguiente escala de 1 a 5, donde 1 significa \"muy en desacuerdo\" y 5 \"muy de acuer', 'Ahora, le voy a leer una serie de afirmaciones y me gustaría que me dijera si está Ud. de acuerdo o en desacuerdo con las siguientes afirmaciones. Para ello utilice la siguiente escala de 1 a 5, donde 1 significa \"muy en desacuerdo\" y 5 \"muy de acuer', 'Ahora, le voy a leer una serie de afirmaciones y me gustaría que me dijera si está Ud. de acuerdo o en desacuerdo con las siguientes afirmaciones. Para ello utilice la siguiente escala de 1 a 5, donde 1 significa \"muy en desacuerdo\" y 5 \"muy de acuer', 'Ahora, le voy a leer una serie de afirmaciones y me gustaría que me dijera si está Ud. de acuerdo o en desacuerdo con las siguientes afirmaciones. Para ello utilice la siguiente escala de 1 a 5, donde 1 significa \"muy en desacuerdo\" y 5 \"muy de acuer', 'Si tuviera que evaluar el grado de corrupción que existe en su país en distintos grupos, ¿cuánta corrupción mucha, alguna, poca o ninguna diría Ud. que existe entre los...  - Políticos en general', 'Si tuviera que evaluar el grado de corrupción que existe en su país en distintos grupos, ¿cuánta corrupción mucha, alguna, poca o ninguna diría Ud. que existe entre los...  - Empleados de la administración pública', 'Si tuviera que evaluar el grado de corrupción que existe en su país en distintos grupos, ¿cuánta corrupción mucha, alguna, poca o ninguna diría Ud. que existe entre los...  - Empresarios', 'Si tuviera que evaluar el grado de corrupción que existe en su país en distintos grupos, ¿cuánta corrupción mucha, alguna, poca o ninguna diría Ud. que existe entre los...  - Presidente', 'Si tuviera que evaluar el grado de corrupción que existe en su país en distintos grupos, ¿cuánta corrupción mucha, alguna, poca o ninguna diría Ud. que existe entre los...  - Periodistas', 'Si tuviera que evaluar el grado de corrupción que existe en su país en distintos grupos, ¿cuánta corrupción mucha, alguna, poca o ninguna diría Ud. que existe entre los...  - Parlamentarios', 'Si tuviera que evaluar el grado de corrupción que existe en su país en distintos grupos, ¿cuánta corrupción mucha, alguna, poca o ninguna diría Ud. que existe entre los...  - Jueces', 'Si tuviera que evaluar el grado de corrupción que existe en su país en distintos grupos, ¿cuánta corrupción mucha, alguna, poca o ninguna diría Ud. que existe entre los...  - Ministros de gobierno', 'Si tuviera que evaluar el grado de corrupción que existe en su país en distintos grupos, ¿cuánta corrupción mucha, alguna, poca o ninguna diría Ud. que existe entre los...  - Policías', 'Si tuviera que evaluar el grado de corrupción que existe en su país en distintos grupos, ¿cuánta corrupción mucha, alguna, poca o ninguna diría Ud. que existe entre los...  - Sociedad', 'Si tuviera que evaluar el grado de corrupción que existe en su país en distintos grupos, ¿cuánta corrupción mucha, alguna, poca o ninguna diría Ud. que existe entre los...  - Militares', 'Si tuviera que evaluar el grado de corrupción que existe en su país en distintos grupos, ¿cuánta corrupción mucha, alguna, poca o ninguna diría Ud. que existe entre los...  - Sindicalistas', 'Si tuviera que evaluar el grado de corrupción que existe en su país en distintos grupos, ¿cuánta corrupción mucha, alguna, poca o ninguna diría Ud. que existe entre los...  - Partidos políticos', '¿Quién cree Ud. que sería más corrupto como político: un hombre, una mujer o ambos por igual?', 'Ahora le voy a leer unas frases sobre el rol del Estado. Por favor, dígame hasta que punto está Ud. de acuerdo o en desacuerdo con ellas. Para ello utilice la siguiente escala de 1 a 7, donde el \"1\" significa muy en desacuerdo y el \"7\" muy de acuerdo', 'Ahora le voy a leer unas frases sobre el rol del Estado. Por favor, dígame hasta que punto está Ud. de acuerdo o en desacuerdo con ellas. Para ello utilice la siguiente escala de 1 a 7, donde el \"1\" significa muy en desacuerdo y el \"7\" muy de acuerdo', 'Ahora le voy a leer unas frases sobre el rol del Estado. Por favor, dígame hasta que punto está Ud. de acuerdo o en desacuerdo con ellas. Para ello utilice la siguiente escala de 1 a 7, donde el \"1\" significa muy en desacuerdo y el \"7\" muy de acuerdo', 'Ahora le voy a leer unas frases sobre el rol del Estado. Por favor, dígame hasta que punto está Ud. de acuerdo o en desacuerdo con ellas. Para ello utilice la siguiente escala de 1 a 7, donde el \"1\" significa muy en desacuerdo y el \"7\" muy de acuerdo', 'Ahora le voy a leer unas frases sobre el rol del Estado. Por favor, dígame hasta que punto está Ud. de acuerdo o en desacuerdo con ellas. Para ello utilice la siguiente escala de 1 a 7, donde el \"1\" significa muy en desacuerdo y el \"7\" muy de acuerdo', 'En su opinión, ¿cuál es el problema más grave que está enfrentando el país?', 'Ahora le voy a leer unas frases sobre el rol del Estado. Por favor, dígame hasta que punto está Ud. de acuerdo o en desacuerdo con ellas. Para ello utilice la siguiente escala de 1 a 7, donde el \"1\" significa muy en desacuerdo y el \"7\" muy de acuerdo', 'Ahora le voy a leer unas frases sobre el rol del Estado. Por favor, dígame hasta que punto está Ud. de acuerdo o en desacuerdo con ellas. Para ello utilice la siguiente escala de 1 a 7, donde el \"1\" significa muy en desacuerdo y el \"7\" muy de acuerdo', 'Ahora le voy a leer unas frases sobre el rol del Estado. Por favor, dígame hasta que punto está Ud. de acuerdo o en desacuerdo con ellas. Para ello utilice la siguiente escala de 1 a 7, donde el \"1\" significa muy en desacuerdo y el \"7\" muy de acuerdo', 'Ahora le voy a leer unas frases sobre el rol del Estado. Por favor, dígame hasta que punto está Ud. de acuerdo o en desacuerdo con ellas. Para ello utilice la siguiente escala de 1 a 7, donde el \"1\" significa muy en desacuerdo y el \"7\" muy de acuerdo', 'A la hora de tomar decisiones algunos legisladores prefieren destinar el dinero público a políticas con resultados a largo plazo (como infraestructuras), mientras que otros legisladores prefieren destinar el dinero público a políticas con resultado', 'En una situación de déficit presupuestario y de deuda pública en la que fuera necesario llevar a cabo un ajuste fiscal, ¿cuál de las siguientes medidas, que tuvieran el mismo impacto fiscal, preferiría Ud.? (PAUSA) (ENTREVISTADOR: MUESTRE TARJETA', '¿Y en segundo lugar? (ENTREVISTADOR: MUESTRE TARJETA AF)\\r\\n', 'Los problemas medioambientales suelen estar asociados al uso de recursos naturales para generar desarrollo económico. En la disyuntiva entre protección al medio ambiente y el desarrollo económico, dónde se ubica usted en una escala de 1 a 10, donde', 'Vamos a hablar ahora sobre otro tema. ¿Podría indicarme en qué tipo de organización (partido político, sindicato, asociación estudiantil, etc.) inició su trayectoria política? (PAUSA)', '¿Y en qué año inició su trayectoria política?', 'Y, ¿en qué año comenzó Ud. a militar en un partido político por primera vez?', 'Y me podría decir, ¿en qué partido o partidos políticos ha militado Ud. y durante qué años? (ENTREVISTADOR: ORDENAR CRONOLÓGICAMENTE DESDE LA MILITANCIA MÁS ANTIGUA) (SI SON VARIOS, ANOTAR SÓLO LOS TRES ÚLTIMOS).', '¿Y durante qué años?', 'Segundo partido en el que ha militado.', '¿Y durante qué años? (2ª militancia)', 'Tercera militancia en un partido político.', '¿Y durante qué años? (Tercera militancia)', '¿Es este el primer período en el que Ud. ha sido elegido Diputado?', 'En este caso, ¿me podría decir durante qué años ha sido Ud. Diputado? (ENTREVISTADOR: ANOTAR CRONOLÓGICAMENTE DESDE EL PERÍODO MÁS  ANTIGUO). (SI SON VARIOS, ANOTAR SÓLO LOS TRES ÚLTIMOS). (NO ANOTAR LA LEGISLATURA ACTUAL). Primera militancia.', 'Primera militancia. Año de fin.', 'Año de inicio segunda legislatura.', 'Año de fin segunda legislatura.', 'Año inicio tercera legislatura', 'Año de fin tercera legislatura', 'Y, ¿se considera Ud. del gobierno o la oposición?', 'A continuación, me gustaría conocer cómo se ha desarrollado su trayectoria política. En este sentido, ¿me podría decir si ocupa o ha ocupado algún puesto de elección popular (es decir intendente, concejal,  etc.) al margen de su cargo como Dipu', 'A continuación, me gustaría conocer cómo se ha desarrollado su trayectoria política. En este sentido, ¿me podría decir si ocupa o ha ocupado algún puesto de elección popular (es decir intendente, concejal,  etc.) al margen de su cargo como Dipu', 'A continuación, me gustaría conocer cómo se ha desarrollado su trayectoria política. En este sentido, ¿me podría decir si ocupa o ha ocupado algún puesto de elección popular (es decir intendente, concejal,  etc.) al margen de su cargo como Dipu', 'Y en este sentido, ¿me podría decir qué cargos de elección popular ocupa o ha  ocupado?   (SI SON VARIOS, ANOTAR SÓLO LOS TRES ÚLTIMOS PUESTOS)', 'Y en este sentido, ¿me podría decir qué cargos de elección popular ocupa o ha  ocupado?   (SI SON VARIOS, ANOTAR SÓLO LOS TRES ÚLTIMOS PUESTOS)', 'Y en este sentido, ¿me podría decir qué cargos de elección popular ocupa o ha  ocupado?   (SI SON VARIOS, ANOTAR SÓLO LOS TRES ÚLTIMOS PUESTOS)', ' ¿Y de designación? (SI SON VARIOS, ANOTAR SÓLO LOS TRES ÚLTIMOS PUESTOS)', ' ¿Y de designación? (SI SON VARIOS, ANOTAR SÓLO LOS TRES ÚLTIMOS PUESTOS)', ' ¿Y de designación? (SI SON VARIOS, ANOTAR SÓLO LOS TRES ÚLTIMOS PUESTOS)', '  ¿Y en el partido? (SI SON VARIOS, ANOTAR SÓLO LOS TRES ÚLTIMOS PUESTOS) - Presidente de partido', '  ¿Y en el partido? (SI SON VARIOS, ANOTAR SÓLO LOS TRES ÚLTIMOS PUESTOS) - Secretaría general', '  ¿Y en el partido? (SI SON VARIOS, ANOTAR SÓLO LOS TRES ÚLTIMOS PUESTOS) - Miembro comisión política', 'Después de su mandato como diputado, ¿a Ud. le gustaría continuar en política?', ' Y, ¿cuál le gustaría que fuera su próximo cargo? (ENTREVISTADOR: MUESTRE TARJETA Q) (UNA SOLA RESPUESTA)', 'Y, ¿a qué le gustaría dedicarse profesionalmente cuando finalice su mandato como diputado?', 'Pensando en el funcionamiento de la Cámara, ¿quién diría Ud. que define, en la práctica, la agenda legislativa? (ENTREVISTADOR: LEA RESPUESTAS Y ANOTE UNA)', 'Pensando en el trabajo que desempeña como Diputado, durante su actividad parlamentaria, dígame por favor, a qué dos de los siguientes aspectos le da Ud. más importancia. (ENTREVISTADOR: MUESTRE TARJETA R)', '¿Y en segundo lugar?', '¿Por cuál de las siguientes razones cree Ud. que ha sido principalmente elegido como Diputado? (PAUSA)', '¿Y en segundo lugar? (MUESTRE TARJETA S)', 'Ahora, le voy a leer varias afirmaciones sobre su trabajo como parlamentario y me gustaría que me dijera hasta qué punto está Ud. de acuerdo o en desacuerdo con estas afirmaciones.  Para ello utilice la siguiente escala de 1 a 5, donde el 1 signific', 'Ahora, le voy a leer varias afirmaciones sobre su trabajo como parlamentario y me gustaría que me dijera hasta qué punto está Ud. de acuerdo o en desacuerdo con estas afirmaciones.  Para ello utilice la siguiente escala de 1 a 5, donde el 1 signific', 'Ahora, le voy a leer varias afirmaciones sobre su trabajo como parlamentario y me gustaría que me dijera hasta qué punto está Ud. de acuerdo o en desacuerdo con estas afirmaciones.  Para ello utilice la siguiente escala de 1 a 5, donde el 1 signific', 'De las siguientes opciones que le voy a mostrar a continuación, señáleme, por favor, ¿a quien cree Ud. que representa durante su actividad parlamentaria? (ENTREVISTADOR: MUESTRE TARJETA U) (SÓLO UNA RESPUESTA)', '¿Cuál de las siguientes características considera Ud. que asegura una mejor representación? (ENTREVISTADOR: MUESTRE TARJETA V)', ' Cambiando de tema. Me gustaría que me dijera ahora, ¿con qué frecuencia: mucha, alguna, poca o ninguna se hablaba de política en su casa durante su infancia y juventud?', '¿Algún familiar suyo se ha dedicado a la política, aunque actualmente no lo haga?', ' ¿Quién o quiénes? (POR FAVOR, ANOTAR EL GRADO DE PARENTESCO RESPECTO AL ENTREVISTADO). (SI SON VARIOS, ANOTAR SÓLO LOS TRES CON  MAYOR GRADO DE PARENTESCO)', 'Segundo familiar en política', 'Tercer familiar en política', '¿Y, su…(nombrar parentesco del primer familiar, y así sucesivamente) pertenece/ció a algún partido político? (PAUSA) ¿A Cuál? (ENTREVISTADOR: SI PERTENECIÓ A VARIOS PARTIDOS POLÍTICOS, ANOTAR SÓLO EN EL QUE MILITÓ DURANTE MAYOR TIEMPO', '¿Y, su…(nombrar parentesco del primer familiar, y así sucesivamente) pertenece/ció a algún partido político? (PAUSA) ¿A Cuál? (ENTREVISTADOR: SI PERTENECIÓ A VARIOS PARTIDOS POLÍTICOS, ANOTAR SÓLO EN EL QUE MILITÓ DURANTE MAYOR TIEMPO)', '¿Y, su…(nombrar parentesco del primer familiar, y así sucesivamente) pertenece/ció a algún partido político? (PAUSA) ¿A Cuál? (ENTREVISTADOR: SI PERTENECIÓ A VARIOS PARTIDOS POLÍTICOS, ANOTAR SÓLO EN EL QUE MILITÓ DURANTE MAYOR TIEMPO)', '¿Y, su…(nombrar parentesco del primer familiar, y así sucesivamente) ocupa/ó algún cargo público? (PAUSA) ¿Cuál? (ENTREVISTADOR: SI PERTENECIÓ A VARIOS PARTIDOS POLÍTICOS, ANOTAR SÓLO EN EL QUE MILITÓ DURANTE MAYOR TIEMPO)', '¿Y, su…(nombrar parentesco del primer familiar, y así sucesivamente) ocupa/ó algún cargo público? (PAUSA) ¿Cuál? (ENTREVISTADOR: SI PERTENECIÓ A VARIOS PARTIDOS POLÍTICOS, ANOTAR SÓLO EN EL QUE MILITÓ DURANTE MAYOR TIEMPO)', '¿Y, su…(nombrar parentesco del primer familiar, y así sucesivamente) ocupa/ó algún cargo público? (PAUSA) ¿Cuál? (ENTREVISTADOR: SI PERTENECIÓ A VARIOS PARTIDOS POLÍTICOS, ANOTAR SÓLO EN EL QUE MILITÓ DURANTE MAYOR TIEMPO)', '¿Cuál era la actividad de su padre cuando Ud. tenía 15 ó 20 años? Es decir, ¿en qué consistía específicamente su trabajo? Me refiero a su ocupación principal: aquélla por  la que percibía mayores ingresos. (PRECISAR LO MÁS POSIBLE LAS ACTI', '¿Y de su madre? (PRECISAR LO MÁS POSIBLE LAS ACTIVIDADES REALIZADAS)', '¿Cuáles son los estudios de más alto nivel oficial que ha cursado su padre? (ENTREVISTADOR: MUESTRE TARJETA W Y SEÑALE EL NIVEL MÁXIMO ALCANZADO)', '¿Y su madre? (ENTREVISTADOR: MUESTRE TARJETA W Y SEÑALE EL NIVEL MÁXIMO ALCANZADO)', \"¿Diría Ud. que, por lo general, se puede confiar en la mayoría de la gente, o que nunca se es lo bastante prudente en el trato con los demás? Por favor, sitúese en una escala de 0 a 10, en la que el 0 significa 'nunca se es lo bastante prudente' y\", 'Hablando en general, ¿Diría Ud. que se puede confiar en la mayoría de los legisladores o que uno nunca es lo suficientemente cuidadoso en el trato con los demás legisladores? (ESPERE RESPUESTA Y MARQUE UNA SOLA)', 'En su vida personal, ¿en qué medida está dispuesto a renunciar a algo que puede ser beneficioso para Ud. hoy a cambio de obtener mayores beneficios en el futuro?. Para ello utilice la siguiente escala de 1 al 10, donde 1 significa que Ud. no está d', 'Imagine que hay un proyecto de ley con el que Ud. no está de acuerdo. Sin embargo, el Jefe de su bancada le promete que si vota por ese proyecto de ley, se incluirá en la próxima Ley de Presupuesto financiación para un programa que a ud. sí le imp', 'Y si la promesa viene del presidente del país, ¿qué grado de confianza, mucha, alguna, poca o ninguna le inspiraría esa promesa?', 'Cambiando de tema, en su opinión personal, ¿con qué firmeza aprueba o desaprueba alguna de las siguientes acciones que le muestro a continuación. Para ello utilice esta escala que va de 1  a 10, donde el 1 significa que \"desaprueba firmemente\" y el', 'Cambiando de tema, en su opinión personal, ¿con qué firmeza aprueba o desaprueba alguna de las siguientes acciones que le muestro a continuación. Para ello utilice esta escala que va de 1  a 10, donde el 1 significa que \"desaprueba firmemente\" y el', 'Cambiando de tema, en su opinión personal, ¿con qué firmeza aprueba o desaprueba alguna de las siguientes acciones que le muestro a continuación. Para ello utilice esta escala que va de 1  a 10, donde el 1 significa que \"desaprueba firmemente\" y el', 'Cambiando de tema, en su opinión personal, ¿con qué firmeza aprueba o desaprueba alguna de las siguientes acciones que le muestro a continuación. Para ello utilice esta escala que va de 1  a 10, donde el 1 significa que \"desaprueba firmemente\" y el', 'Cambiando de tema, en su opinión personal, ¿con qué firmeza aprueba o desaprueba alguna de las siguientes acciones que le muestro a continuación. Para ello utilice esta escala que va de 1  a 10, donde el 1 significa que \"desaprueba firmemente\" y el', 'Como recordará, cuando se habla de política se utilizan normalmente las expresiones izquierda y derecha. En esta tarjeta hay una serie de casillas que van de izquierda a derecha. ¿En qué casilla se colocaría Ud. teniendo en cuenta sus ideas polít', 'Y, en esta misma escala, ¿dónde situaría Ud. a su propio partido político? (ENTREVISTADOR: MUESTRE TARJETA Z Y ANOTE LA CASILLA QUE LE INDICAN) -', ' Cambiando de tema, ¿es Ud. creyente?', '¿Cuál es su religión? (ENTREVISTADOR: ESPERAR RESPUESTA  ESPONTÁNEA)', ' ¿Con qué frecuencia asiste Ud. a misa u otros oficios religiosos sin contar las ocasiones relacionadas con ceremonias de tipo social, por ejemplo, bodas o funerales? (ENTREVISTADOR: LEER ALTERNATIVAS Y MARQUE UNA RESPUESTA)', 'Sexo', '¿Cuántos años cumplió Ud. en su último cumpleaños?', '¿Podría decirme su estado civil? (ENTREVISTADOR: LEA LAS ALTERNATIVAS Y MARQUE UNA RESPUESTA)', ' ¿Podría decirme si tiene Ud. hijos?', '¿Podría decirme cuantos hijos tiene Ud.?', '¿Y de ellos, cuántos son menores de 16 años?', '¿Cuáles son los estudios de más alto nivel oficial que Ud. ha cursado?', ' ¿Cuál era la principal actividad que desempeñaba Ud. antes de ser elegido Diputado? Es decir, ¿en qué consistía específicamente su trabajo? Me refiero a su ocupación principal: aquélla por la que percibía mayores ingresos. (PRECISAR LO MÁS', '¿Con qué frecuencia, diariamente, algunas veces a la semana, algunas veces al mes, algunas veces al año o nunca, utiliza Ud. o alguien de su equipo las siguientes redes sociales para interactuar con los ciudadanos? (ENTREVISTADOR: MUESTRE TARJETA AB', '¿Con qué frecuencia, diariamente, algunas veces a la semana, algunas veces al mes, algunas veces al año o nunca, utiliza Ud. o alguien de su equipo las siguientes redes sociales para interactuar con los ciudadanos? (ENTREVISTADOR: MUESTRE TARJETA AB', '¿Con qué frecuencia, diariamente, algunas veces a la semana, algunas veces al mes, algunas veces al año o nunca, utiliza Ud. o alguien de su equipo las siguientes redes sociales para interactuar con los ciudadanos? (ENTREVISTADOR: MUESTRE TARJETA AB', '¿Con qué frecuencia, diariamente, algunas veces a la semana, algunas veces al mes, algunas veces al año o nunca, utiliza Ud. o alguien de su equipo las siguientes redes sociales para interactuar con los ciudadanos? (ENTREVISTADOR: MUESTRE TARJETA AB', ' Y, ¿en la actualidad, se dedica únicamente a su actividad como Diputado, o la compatibiliza con otras actividades remuneradas?', 'Y, ¿esta actividad que compatibiliza con su trabajo parlamentario, es la misma que desarrollaba antes de ser elegido Diputado, o es otra nueva?', '¿Cómo considera Ud. su remuneración como Diputado: más que suficiente, suficiente, insuficiente o muy insuficiente?', 'Para finalizar, ¿podría indicarme dentro de cuál de estas categorías se incluirían sus actuales ingresos mensuales, teniendo en cuenta las distintas fuentes de sus percepciones?(ENTREVISTADOR: MUESTRE TARJETA AC Y SEÑALE AL ENTREVISTADO QUE INDIQ', 'OBSERVACIONES Y VALORACIÓN DE LA ENTREVISTA.\\r\\nDesarrollo de la entrevista', 'V2. Grado de dificultad en el entendimiento del cuestionario por parte del entrevistado: -', 'Y, por último, ¿Cómo considerarías tú físicamente al entrevistado? Una persona…', 'Duración de la entrevista en minutos', 'Entrevistador', 'Fecha (día/mes) primera visita', 'Hora 1ª visita', 'Fecha (día/mes) 2ª visita', 'Hora 2ª visita', 'Fecha (día/mes) última visita', 'Hora 3ª visita', 'Modo de visita/contacto inicial primera visita', 'Modo de visita/contacto inicial 2ª visita', 'Modo de visita/contacto inicial. Última visita', 'Persona con la que se establece el contacto. 1ª visita', 'Persona con la que se establece el contacto. 1ª visita - Texto', 'Persona con la que se establece el contacto. 2ª visita', 'Persona con la que se establece el contacto. Última visita', 'Resultado de la vista. 1ª visita', 'Resultado de la vista. 1ª visita - Texto', 'Causa de negativa/motivos rechazo. 1ª visita', 'Resultado de la vista. 2ª visita', 'Causa de negativa/motivos rechazo. 2ª visita', 'Resultado de la visita. Última visita', 'Causa de negativa/motivos de rechazo. Última visita', None]\n"
          ]
        }
      ]
    },
    {
      "cell_type": "code",
      "source": [
        "#Quiero saber cuales son las preguntas para  cada columna\n",
        "\n",
        "columnas_interes = ['PRO109', 'DEM5']\n",
        "for columna in columnas_interes:\n",
        "    if columna in df_diputados.columns:\n",
        "        print(f\"{columna}: {meta.column_labels[df_diputados.columns.get_loc(columna)]}\")\n",
        "    else:\n",
        "        print(f\"La columna {columna} no existe en el DataFrame.\")\n"
      ],
      "metadata": {
        "colab": {
          "base_uri": "https://localhost:8080/"
        },
        "id": "fTQYZ_wF8ZhS",
        "outputId": "ae6c1920-fcc0-4bc6-c07a-da18c84aa59e"
      },
      "execution_count": 3,
      "outputs": [
        {
          "output_type": "stream",
          "name": "stdout",
          "text": [
            "PRO109: A continuación, le voy a nombrar una serie de problemas locales comunes a muchos países. ¿Podría indicarme para cada uno de ellos que grado de importancia tienen hoy en Argentina siguiendo esta escala de 1 a 10, donde 1 significa \"no es una cuesti\n",
            "DEM5: En general, ¿diría Ud. que está muy satisfecho, satisfecho, insatisfecho o muy insatisfecho con el funcionamiento de la democracia hoy en Argentina?\n"
          ]
        }
      ]
    },
    {
      "cell_type": "markdown",
      "source": [
        "¿Cual es la correlación entre la satisfacción con el funcionamiento de la democracia y la importancia de la corrupción como problemática?"
      ],
      "metadata": {
        "id": "43SBv5T8OzVJ"
      }
    },
    {
      "cell_type": "code",
      "source": [
        "Y = df_diputados['PRO109'] #importancia corrupcion\n",
        "X = df_diputados['DEM5'] #funcionamiento democracia\n",
        "\n",
        "X = sm.add_constant (X)\n",
        "\n",
        "modelo = sm.OLS(Y, X). fit()\n",
        "\n",
        "print(modelo.summary())"
      ],
      "metadata": {
        "colab": {
          "base_uri": "https://localhost:8080/"
        },
        "id": "guYrUTlcIp4r",
        "outputId": "c66e83c1-d9af-4135-fd0b-22ee30e6ca2a"
      },
      "execution_count": 17,
      "outputs": [
        {
          "output_type": "stream",
          "name": "stdout",
          "text": [
            "                            OLS Regression Results                            \n",
            "==============================================================================\n",
            "Dep. Variable:                 PRO109   R-squared:                       0.167\n",
            "Model:                            OLS   Adj. R-squared:                  0.159\n",
            "Method:                 Least Squares   F-statistic:                     21.68\n",
            "Date:                Fri, 15 Nov 2024   Prob (F-statistic):           9.21e-06\n",
            "Time:                        00:04:44   Log-Likelihood:                -227.53\n",
            "No. Observations:                 110   AIC:                             459.1\n",
            "Df Residuals:                     108   BIC:                             464.5\n",
            "Df Model:                           1                                         \n",
            "Covariance Type:            nonrobust                                         \n",
            "==============================================================================\n",
            "                 coef    std err          t      P>|t|      [0.025      0.975]\n",
            "------------------------------------------------------------------------------\n",
            "const         10.1632      0.566     17.965      0.000       9.042      11.285\n",
            "DEM5          -0.9749      0.209     -4.656      0.000      -1.390      -0.560\n",
            "==============================================================================\n",
            "Omnibus:                       14.307   Durbin-Watson:                   1.897\n",
            "Prob(Omnibus):                  0.001   Jarque-Bera (JB):               15.569\n",
            "Skew:                          -0.859   Prob(JB):                     0.000416\n",
            "Kurtosis:                       3.668   Cond. No.                         9.33\n",
            "==============================================================================\n",
            "\n",
            "Notes:\n",
            "[1] Standard Errors assume that the covariance matrix of the errors is correctly specified.\n"
          ]
        }
      ]
    },
    {
      "cell_type": "code",
      "source": [],
      "metadata": {
        "id": "wDnw39O9Ql46"
      },
      "execution_count": null,
      "outputs": []
    },
    {
      "cell_type": "code",
      "source": [
        "#Quiero saber cuales son las preguntas para  cada columna\n",
        "\n",
        "columnas_interes = ['CLIMA201', 'SOCD5']\n",
        "for columna in columnas_interes:\n",
        "    if columna in df_diputados.columns:\n",
        "        print(f\"{columna}: {meta.column_labels[df_diputados.columns.get_loc(columna)]}\")\n",
        "    else:\n",
        "        print(f\"La columna {columna} no existe en el DataFrame.\")"
      ],
      "metadata": {
        "colab": {
          "base_uri": "https://localhost:8080/"
        },
        "id": "Op2snApYMYvh",
        "outputId": "b2a11385-cec0-4bfa-a4c9-d7eea05301ef"
      },
      "execution_count": 18,
      "outputs": [
        {
          "output_type": "stream",
          "name": "stdout",
          "text": [
            "CLIMA201: Los problemas medioambientales suelen estar asociados al uso de recursos naturales para generar desarrollo económico. En la disyuntiva entre protección al medio ambiente y el desarrollo económico, dónde se ubica usted en una escala de 1 a 10, donde\n",
            "SOCD5: ¿Cuántos años cumplió Ud. en su último cumpleaños?\n"
          ]
        }
      ]
    },
    {
      "cell_type": "code",
      "source": [
        "¿Cual  es la relación entre la edad de los encuestados (SOCD5) y su posición en la disyuntiva entre desarrollo económico y protección del medio ambiente (CLIMA201)?"
      ],
      "metadata": {
        "id": "LcGtz6gTQnAD"
      },
      "execution_count": null,
      "outputs": []
    },
    {
      "cell_type": "code",
      "source": [
        "Y = df_diputados['CLIMA201'] #clima\n",
        "X = df_diputados['SOCD5'] # edad\n",
        "\n",
        "X = sm.add_constant (X)\n",
        "\n",
        "modelo = sm.OLS(Y, X). fit()\n",
        "\n",
        "print(modelo.summary())"
      ],
      "metadata": {
        "colab": {
          "base_uri": "https://localhost:8080/"
        },
        "id": "kD3hIeCuCRxM",
        "outputId": "f124b196-58df-4236-a1a6-0e372bfce99c"
      },
      "execution_count": 13,
      "outputs": [
        {
          "output_type": "stream",
          "name": "stdout",
          "text": [
            "                            OLS Regression Results                            \n",
            "==============================================================================\n",
            "Dep. Variable:               CLIMA201   R-squared:                       0.024\n",
            "Model:                            OLS   Adj. R-squared:                  0.015\n",
            "Method:                 Least Squares   F-statistic:                     2.682\n",
            "Date:                Fri, 15 Nov 2024   Prob (F-statistic):              0.104\n",
            "Time:                        00:00:15   Log-Likelihood:                -396.34\n",
            "No. Observations:                 110   AIC:                             796.7\n",
            "Df Residuals:                     108   BIC:                             802.1\n",
            "Df Model:                           1                                         \n",
            "Covariance Type:            nonrobust                                         \n",
            "==============================================================================\n",
            "                 coef    std err          t      P>|t|      [0.025      0.975]\n",
            "------------------------------------------------------------------------------\n",
            "const         -0.0963      4.041     -0.024      0.981      -8.107       7.915\n",
            "SOCD5          0.1263      0.077      1.638      0.104      -0.027       0.279\n",
            "==============================================================================\n",
            "Omnibus:                      227.338   Durbin-Watson:                   2.066\n",
            "Prob(Omnibus):                  0.000   Jarque-Bera (JB):            42058.747\n",
            "Skew:                           9.516   Prob(JB):                         0.00\n",
            "Kurtosis:                      96.884   Cond. No.                         248.\n",
            "==============================================================================\n",
            "\n",
            "Notes:\n",
            "[1] Standard Errors assume that the covariance matrix of the errors is correctly specified.\n"
          ]
        }
      ]
    },
    {
      "cell_type": "code",
      "source": [
        "#Quiero saber cuales son las preguntas para  cada columna\n",
        "\n",
        "columnas_interes = ['SOCD4', 'RE1']\n",
        "for columna in columnas_interes:\n",
        "    if columna in df_diputados.columns:\n",
        "        print(f\"{columna}: {meta.column_labels[df_diputados.columns.get_loc(columna)]}\")\n",
        "    else:\n",
        "        print(f\"La columna {columna} no existe en el DataFrame.\")"
      ],
      "metadata": {
        "colab": {
          "base_uri": "https://localhost:8080/"
        },
        "id": "9OlTRzlvNDOU",
        "outputId": "3a96e2fb-32f5-4a23-c547-817163f8dd91"
      },
      "execution_count": 19,
      "outputs": [
        {
          "output_type": "stream",
          "name": "stdout",
          "text": [
            "SOCD4: Sexo\n",
            "RE1:  Cambiando de tema, ¿es Ud. creyente?\n"
          ]
        }
      ]
    },
    {
      "cell_type": "code",
      "source": [
        "Y = df_diputados['RE1']   #Si es religioso\n",
        "X = df_diputados['SOCD4'] # Sexo\n",
        "\n",
        "X = sm.add_constant (X)\n",
        "\n",
        "modelo = sm.OLS(Y, X). fit()\n",
        "\n",
        "print(modelo.summary())"
      ],
      "metadata": {
        "colab": {
          "base_uri": "https://localhost:8080/"
        },
        "id": "ECHkCPIsIGOQ",
        "outputId": "bb0bc3e1-8409-499c-b6e3-6d81af174230"
      },
      "execution_count": 22,
      "outputs": [
        {
          "output_type": "stream",
          "name": "stdout",
          "text": [
            "                            OLS Regression Results                            \n",
            "==============================================================================\n",
            "Dep. Variable:                    RE1   R-squared:                       0.018\n",
            "Model:                            OLS   Adj. R-squared:                  0.008\n",
            "Method:                 Least Squares   F-statistic:                     1.929\n",
            "Date:                Fri, 15 Nov 2024   Prob (F-statistic):              0.168\n",
            "Time:                        00:25:49   Log-Likelihood:                -71.874\n",
            "No. Observations:                 110   AIC:                             147.7\n",
            "Df Residuals:                     108   BIC:                             153.1\n",
            "Df Model:                           1                                         \n",
            "Covariance Type:            nonrobust                                         \n",
            "==============================================================================\n",
            "                 coef    std err          t      P>|t|      [0.025      0.975]\n",
            "------------------------------------------------------------------------------\n",
            "const          1.5066      0.137     11.025      0.000       1.236       1.777\n",
            "SOCD4         -0.1256      0.090     -1.389      0.168      -0.305       0.054\n",
            "==============================================================================\n",
            "Omnibus:                      135.937   Durbin-Watson:                   1.812\n",
            "Prob(Omnibus):                  0.000   Jarque-Bera (JB):               18.476\n",
            "Skew:                           0.715   Prob(JB):                     9.73e-05\n",
            "Kurtosis:                       1.590   Cond. No.                         6.48\n",
            "==============================================================================\n",
            "\n",
            "Notes:\n",
            "[1] Standard Errors assume that the covariance matrix of the errors is correctly specified.\n"
          ]
        }
      ]
    }
  ]
}